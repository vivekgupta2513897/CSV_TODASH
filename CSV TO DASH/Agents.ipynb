{
 "cells": [
  {
   "cell_type": "code",
   "execution_count": null,
   "id": "5a40ac9f",
   "metadata": {},
   "outputs": [],
   "source": [
    "!pip install autogen"
   ]
  },
  {
   "cell_type": "code",
   "execution_count": null,
   "id": "0a6bd6fe",
   "metadata": {},
   "outputs": [],
   "source": [
    "!pip install pyautogen"
   ]
  },
  {
   "cell_type": "code",
   "execution_count": null,
   "id": "3003c5eb",
   "metadata": {},
   "outputs": [],
   "source": [
    "!pip install dask[dataframe]"
   ]
  },
  {
   "cell_type": "code",
   "execution_count": null,
   "id": "72dcc81f",
   "metadata": {},
   "outputs": [],
   "source": [
    "pip install seaborn"
   ]
  },
  {
   "cell_type": "code",
   "execution_count": null,
   "id": "e0e9d35c",
   "metadata": {},
   "outputs": [],
   "source": [
    "pip install ag2[openai]"
   ]
  },
  {
   "cell_type": "code",
   "execution_count": null,
   "id": "4da90b96",
   "metadata": {},
   "outputs": [],
   "source": [
    " pip install pandas matplotlib"
   ]
  },
  {
   "cell_type": "code",
   "execution_count": null,
   "id": "14b999e3",
   "metadata": {},
   "outputs": [],
   "source": [
    "import openai\n",
    "import uuid\n",
    "import json\n",
    "import autogen"
   ]
  },
  {
   "cell_type": "code",
   "execution_count": null,
   "id": "c7e2c032",
   "metadata": {},
   "outputs": [],
   "source": [
    "from autogen import AssistantAgent, UserProxyAgent, GroupChat, GroupChatManager"
   ]
  },
  {
   "cell_type": "code",
   "execution_count": null,
   "id": "35353b9a",
   "metadata": {},
   "outputs": [],
   "source": [
    "from openai import OpenAI"
   ]
  },
  {
   "cell_type": "code",
   "execution_count": null,
   "id": "ba089283",
   "metadata": {},
   "outputs": [],
   "source": [
    "file_path = \"apikey.json\"\n",
    "\n",
    "# Load the JSON file\n",
    "with open(file_path, 'r') as file:\n",
    "    config = json.load(file)\n",
    "    print(\"Loaded JSON content:\", config)\n"
   ]
  },
  {
   "cell_type": "code",
   "execution_count": null,
   "id": "1014cc84",
   "metadata": {},
   "outputs": [],
   "source": [
    "config_list = autogen.config_list_from_json(\"apikey.json\")\n",
    "model_name = config_list[0].get(\"model\")\n",
    "api_key = config_list[0].get(\"api_key\")"
   ]
  },
  {
   "cell_type": "code",
   "execution_count": null,
   "id": "035e83d8",
   "metadata": {},
   "outputs": [],
   "source": [
    "file_path = r\"C:\\Users\\DANICA\\Documents\\Projects\\dataset\\Mall_Customers.csv\"\n",
    "location = r\"C:\\Users\\DANICA\\Documents\\Projects\\dataset\\Mall_Customers.csv\"\n",
    "chart_location = r\"C:\\Users\\DANICA\\Desktop\\charts\"\n",
    "chart_filename = f\"{str(uuid.uuid4())}_chart.png\"\n",
    "code_language= 'python'\n"
   ]
  },
  {
   "cell_type": "code",
   "execution_count": null,
   "id": "37086c9c",
   "metadata": {},
   "outputs": [],
   "source": [
    "import pandas as pd\n",
    "def load_dataset(file_path):\n",
    "    if file_path.endswith('.csv'):\n",
    "        df = pd.read_csv(file_path)\n",
    "    elif file_path.endswith(('.xls', '.xlsx')):\n",
    "        df = pd.read_excel(file_path)\n",
    "    elif file_path.endswith('.json'):\n",
    "        df = pd.read_json(file_path)\n",
    "    else:\n",
    "        raise ValueError(\"Unsupported file format. Please provide CSV, Excel, or JSON.\")\n",
    "    return df\n",
    "\n",
    "try:\n",
    "    df = load_dataset(file_path)\n",
    "    print(\"Dataset loaded successfully:\")\n",
    "    display(df.head()) \n",
    "except Exception as e:\n",
    "    print(f\"Error loading dataset: {e}\")\n",
    "    df = pd.DataFrame()  "
   ]
  },
  {
   "cell_type": "code",
   "execution_count": null,
   "id": "72127811",
   "metadata": {},
   "outputs": [],
   "source": [
    "data_retrival_prompt = '''\n",
    "**Role**:You are a data retrival agent who retrives data from the file that has been uploaded.You have following tasks:\n",
    "- Retrieve the most recent data from the file. \n",
    "- Focus on the following data points: specific variables. \n",
    "- Ensure that the data is cleaned by handling missing values, duplicates, or outliers, and is formatted in a desired format (e.g., CSV, JSON, or other suitable formats for analysis).\n",
    "- Provide a summary of the data retrieved, including a brief description of the dataset, the number of rows/columns, and any noteworthy characteristics (e.g., missing data, duplicates, etc.).\n",
    "- Ensure the data is structured and ready for analysis, including appropriate column names, and consistent formatting.\n",
    "- Analyze and document the distribution of numerical variables to detect any unusual or extreme values that might need attention.\n",
    "- Identify and provide a breakdown of missing data percentages and handle missing values (e.g., imputation, removal, or flagging).\n",
    "- Ensure that categorical variables are properly encoded (e.g., one-hot encoding or label encoding if required).\n",
    "- Provide an overview of the data, highlighting any trends or patterns observed in the initial analysis (e.g., time trends, correlations, etc.).\n",
    "'''"
   ]
  },
  {
   "cell_type": "code",
   "execution_count": null,
   "id": "66de6aed",
   "metadata": {},
   "outputs": [],
   "source": [
    "query_processing_prompt = '''\n",
    "**Role**: You are a query processing agent who interprets and processes user queries. You have the following tasks:\n",
    "- Parse the user's query and identify key data points or requirements.\n",
    "- Translate the query into a structured format (e.g., SQL, filters) to extract relevant data.\n",
    "- Ensure the query applies the correct filters (e.g., date range, category) and targets the right data.\n",
    "- Provide the user with the results in a clear and structured format.\n",
    "- Break down complex queries into smaller parts, if necessary, to ensure each part is correctly executed and aggregated.\n",
    "- If the query involves aggregations, ensure the proper functions (e.g., SUM, COUNT, AVG) are used and explain the results clearly.\n",
    "- Suggest improvements or optimizations to the query if necessary, such as indexing or performance improvements.\n",
    "- If the query involves time-sensitive or real-time data, ensure that the appropriate filters (e.g., timestamps) are used to return accurate results.\n",
    "- After processing, confirm the completion of the task and ask if the user needs further assistance or additional queries.\n",
    "'''\n"
   ]
  },
  {
   "cell_type": "code",
   "execution_count": null,
   "id": "a8caa6c6",
   "metadata": {},
   "outputs": [],
   "source": [
    "query_processing_agent = autogen.AssistantAgent(\n",
    "    name=\"Query_Processor\",\n",
    "    system_message=query_processing_prompt,\n",
    "    llm_config={\"config_list\": config_list}\n",
    ")\n"
   ]
  },
  {
   "cell_type": "code",
   "execution_count": null,
   "id": "394fe74d",
   "metadata": {},
   "outputs": [],
   "source": [
    "planner = AssistantAgent(\n",
    "    name=\"planner\",\n",
    "    llm_config={\"config_list\": config_list},\n",
    "    system_message=f\"\"\"You are a Planner Agent to create all type of charts plots that a user will request from the data file.\n",
    "    Load the data from the provided file location.\n",
    "    Determine the type of analysis (basic, advanced, forecasting, or AI/ML).\n",
    "    Clean the data by handling missing values, duplicates, or formatting issues.\n",
    "    Decide on the appropriate chart type based on the analysis.\n",
    "    Create the chart with necessary customizations (e.g., axis labels, title).\n",
    "    Add insights or annotations to highlight trends if needed.\n",
    "    Save the plot at the specified location {chart_location} and print the filename.\n",
    "    Make refinements based on feedback or specific requirements.\n",
    "    Suggest alternative chart types or analysis methods if necessary.\n",
    "    Ensure data security and protect sensitive information throughout the process.\n",
    "     **DO NOT GENERATE CODE YOURSELF.** Instruct the CodeWriter to generate the necessary code for each step.\n",
    "            \"\"\"\n",
    "        )"
   ]
  },
  {
   "cell_type": "code",
   "execution_count": null,
   "id": "50bd3824",
   "metadata": {},
   "outputs": [],
   "source": [
    "data_retrival_agent = autogen.AssistantAgent(\n",
    "    name=\"Data_Retriever\",\n",
    "    system_message=data_retrival_prompt,\n",
    "    llm_config={\"config_list\": config_list}\n",
    ")"
   ]
  },
  {
   "cell_type": "code",
   "execution_count": null,
   "id": "cb432d61",
   "metadata": {},
   "outputs": [],
   "source": [
    "code_writer = AssistantAgent(\n",
    "    name=\"code_writer\",\n",
    "    llm_config={\"config_list\": config_list},\n",
    "    system_message=f\"\"\"Code will be written in the specified language, {code_language}.\n",
    "    Based on the outlined plan, write the complete code for each step.\n",
    "    Ensure to save the plot using plt.save and store it at the specified {chart_location}. Print \"Chart saved as {chart_filename}\" after saving the plot.\n",
    "    Indicate clearly which agent is responsible for each step.\n",
    "    Consider the analysis type (basic, analytics, forecasting, AI/ML) and adjust the approach accordingly.\n",
    "    Ensure that the code handles all relevant edge cases or special conditions for the analysis.\n",
    "    After the plot is saved, ensure the process is logged, with details on the chart creation steps followed.\n",
    "            \"\"\"\n",
    "        )\n"
   ]
  },
  {
   "cell_type": "code",
   "execution_count": null,
   "id": "653f73f4",
   "metadata": {},
   "outputs": [],
   "source": [
    "code_executor = UserProxyAgent(\n",
    "            name=\"code_executor\",\n",
    "            human_input_mode=\"NEVER\",\n",
    "            code_execution_config={\n",
    "        \"work_dir\": \"plotter_code\",\n",
    "        \"use_docker\": False  \n",
    "            },\n",
    "            llm_config={\"config_list\": config_list},\n",
    "            system_message=f'''You are the CodeExecutor Agent, responsible for executing the code provided by the CodeWriter and reporting back the results or any errors encountered.\n",
    "            Always check for code correctness before execution and ensure it aligns with the outlined plan.\n",
    "            Resuts should be displayed in the most effective format.\n",
    "            Use a tabular format when appropriate.\n",
    "            In cases where a graphical output is produced, ensure the plot is saved using plt.save and stored at the specified {chart_location}, printing \"Chart saved as {chart_filename}\" after saving.\n",
    "            Provide a clear and detailed error message with the relevant traceback to help the user debug, in case of errors.\n",
    "            verify the accuracy of the results and confirm that they match the expected output.\n",
    "            provide a summary or analysis of the data to help the user understand the outcomes better.\n",
    "            The file path is -->{location} \n",
    "            '''\n",
    "        )\n"
   ]
  },
  {
   "cell_type": "code",
   "execution_count": null,
   "id": "6c3f76aa",
   "metadata": {},
   "outputs": [],
   "source": [
    "debugger = AssistantAgent(\n",
    "    name=\"debugger\",\n",
    "    llm_config={\"config_list\": config_list},\n",
    "    system_message=f\"\"\"\n",
    "    Code will be written in the specified language, {code_language}.\n",
    "    Write the complete end-to-end code based on the outlined steps.\n",
    "    Ensure that the plot is saved using plt.save and stored at the specified {chart_location}, printing \"Chart saved as {chart_filename}\" once the plot is saved.\n",
    "    Your responsibility is to identify these errors and resolve them promptly generated from the previous code.\n",
    "    test the code after execution to ensure it works as expected and correct any issues that arise.\n",
    "    If the code fails or produces unexpected results, debug it step-by-step, fix the problem.\n",
    "    Re-run the code until it's fully functional.Confirm that the plot is correctly generated and saved, and the output is accurate when done resolving errors.\n",
    "    Ensure that all dependencies and libraries required for execution are correctly installed and imported.\n",
    "\"\"\"\n",
    "        )"
   ]
  },
  {
   "cell_type": "code",
   "execution_count": null,
   "id": "c12c3c15",
   "metadata": {},
   "outputs": [],
   "source": [
    "process_completion = AssistantAgent(\n",
    "    name=\"process_completion\",\n",
    "    llm_config={\"config_list\": config_list},\n",
    "    system_message=f\"\"\"You are a Process completion agent which takes care that all processes are being completed by all other agents.\n",
    "    Respond back with information in a tabular format or sequential steps, depending on the context.\n",
    "    Always provide tabular responses in Markdown format.\n",
    "    display the data head in Markdown format.\n",
    "    Ensure all tabular data is processed and presented using Markdown for clarity.\n",
    "    Give complete details at each step, ensuring clarity in every action for sequential data.\n",
    "    Transform the data into a more usable format(If required) (e.g., scaling or encoding categorical variables).\n",
    "    Provide an overview of any transformations applied, explaining the changes made to the data.\n",
    "    If the process is incomplete, ask the user if they would like to continue or need further assistance.\n",
    "    Once everything is finished, confirm completion with the user.\n",
    "    Recommend two new questions or tasks to keep the conversation engaging and move forward.\n",
    "\"\"\"\n",
    "        )"
   ]
  },
  {
   "cell_type": "code",
   "execution_count": null,
   "id": "1ef2f874",
   "metadata": {},
   "outputs": [],
   "source": [
    "from autogen.agentchat.agent import Agent"
   ]
  },
  {
   "cell_type": "code",
   "execution_count": null,
   "id": "e1981317",
   "metadata": {},
   "outputs": [],
   "source": [
    "def state_transition(last_speaker: Agent, groupchat: GroupChat):\n",
    "    messages = groupchat.messages\n",
    "    # Initial interaction\n",
    "    if len(messages) <= 1:\n",
    "        return query_processing_agent  # Start with the user\n",
    "    if last_speaker is query_processing_agent:\n",
    "        return planner  # Move from query processing to planning\n",
    "    # After planner responds, proceed with the flow:\n",
    "    elif last_speaker is planner:\n",
    "        return data_retrival_agent  # Planner passes the work to data retrieval\n",
    "    elif last_speaker is data_retrival_agent:\n",
    "        return code_writer  # Data retrieval hands over to code writer\n",
    "    elif last_speaker is code_writer:\n",
    "        return code_executor  # Code writer moves to code execution\n",
    "    elif last_speaker is code_executor:\n",
    "        # Check if code execution had an error and decide the next speaker\n",
    "        if \"exitcode: 1\" in messages[-1][\"content\"]:\n",
    "            return debugger  # If error, hand over to debugger\n",
    "        else:\n",
    "            return process_completion  # If no error, complete the process\n",
    "    elif last_speaker is debugger:\n",
    "        return groupchat.agent_by_name(\"code_writer\")  # Return to code writer after debugging\n",
    "    return None  # Default case if none of the above conditions match\n",
    "\n"
   ]
  },
  {
   "cell_type": "code",
   "execution_count": null,
   "id": "ee1e0f43",
   "metadata": {},
   "outputs": [],
   "source": [
    "cs_groupchat = GroupChat(\n",
    "    agents=[\n",
    "        query_processing_agent,\n",
    "        planner,  \n",
    "        data_retrival_agent,\n",
    "        code_writer,  \n",
    "        code_executor,  \n",
    "        debugger,  \n",
    "        process_completion \n",
    "    ],\n",
    "    speaker_selection_method=state_transition,\n",
    "    messages=[],\n",
    "    max_round=900\n",
    ")\n"
   ]
  },
  {
   "cell_type": "code",
   "execution_count": null,
   "id": "00de3f11",
   "metadata": {},
   "outputs": [],
   "source": [
    "cs_manager = GroupChatManager(cs_groupchat,llm_config=config_list[0],)"
   ]
  },
  {
   "cell_type": "code",
   "execution_count": null,
   "id": "8038aa22",
   "metadata": {},
   "outputs": [],
   "source": [
    "question= f\"\"\"\n",
    "can you plot all variation of age vs gender plots from  mall_customer.csv file preset at--> {location}\n",
    "\"\"\"\n",
    "\n",
    "response = cs_manager.initiate_chat(cs_manager, message=question)"
   ]
  }
 ],
 "metadata": {
  "kernelspec": {
   "display_name": "Python 3",
   "language": "python",
   "name": "python3"
  },
  "language_info": {
   "codemirror_mode": {
    "name": "ipython",
    "version": 3
   },
   "file_extension": ".py",
   "mimetype": "text/x-python",
   "name": "python",
   "nbconvert_exporter": "python",
   "pygments_lexer": "ipython3",
   "version": "3.12.9"
  }
 },
 "nbformat": 4,
 "nbformat_minor": 5
}
